{
 "cells": [
  {
   "cell_type": "code",
   "execution_count": 6,
   "id": "f97ecbc6",
   "metadata": {},
   "outputs": [
    {
     "ename": "ModuleNotFoundError",
     "evalue": "No module named 'functions'",
     "output_type": "error",
     "traceback": [
      "\u001b[1;31m---------------------------------------------------------------------------\u001b[0m",
      "\u001b[1;31mModuleNotFoundError\u001b[0m                       Traceback (most recent call last)",
      "Input \u001b[1;32mIn [6]\u001b[0m, in \u001b[0;36m<cell line: 3>\u001b[1;34m()\u001b[0m\n\u001b[0;32m      1\u001b[0m \u001b[38;5;28;01mimport\u001b[39;00m \u001b[38;5;21;01mcv2\u001b[39;00m\n\u001b[0;32m      2\u001b[0m \u001b[38;5;28;01mimport\u001b[39;00m \u001b[38;5;21;01mos\u001b[39;00m\n\u001b[1;32m----> 3\u001b[0m \u001b[38;5;28;01mimport\u001b[39;00m \u001b[38;5;21;01mfunctions\u001b[39;00m \u001b[38;5;28;01mas\u001b[39;00m \u001b[38;5;21;01mfs\u001b[39;00m\n\u001b[0;32m      5\u001b[0m \u001b[38;5;66;03m# 이미지 불러오기\u001b[39;00m\n\u001b[0;32m      6\u001b[0m image \u001b[38;5;241m=\u001b[39m cv2\u001b[38;5;241m.\u001b[39mimread(\u001b[38;5;124m\"\u001b[39m\u001b[38;5;124mC:/Users/USER/git/SheetMusicRecognizer/image/music2.jpg\u001b[39m\u001b[38;5;124m\"\u001b[39m)\n",
      "\u001b[1;31mModuleNotFoundError\u001b[0m: No module named 'functions'"
     ]
    }
   ],
   "source": [
    "import cv2\n",
    "import os\n",
    "import numpy as np\n",
    "import functions as fs\n",
    "import modules\n",
    "\n",
    "# 이미지 불러오기\n",
    "print(\"Processing image_0.. \\n\")\n",
    "image_0 = cv2.imread(\"C:/Users/USER/git/SheetMusicRecognizer/image/music2.jpg\")\n",
    "cv2.imshow('image', image_0)\n",
    "\n",
    "print(\"Processing image_1.. \\n\")\n",
    "image_1 = modules.remove_noise(image_0)\n",
    "cv2.imshow('image', image_1)\n",
    "# 2. 오선 제거\n",
    "print(\"Processing image_2.. \\n\")\n",
    "image_2, staves = modules.remove_staves(image_1)\n",
    "cv2.imshow('image', image_2)\n",
    "\n",
    "# 3. 악보 이미지 정규화\n",
    "print(\"Processing image_3.. \\n\")\n",
    "image_3, staves = modules.normalization(image_2, staves, 10)\n",
    "cv2.imshow('image', image_3)\n",
    "\n",
    "# 4. 객체 검출 과정\n",
    "print(\"Processing image_4.. \\n\")\n",
    "image_4, objects = modules.object_detection(image_3, staves)\n",
    "cv2.imshow('image', image_4)\n",
    "\n",
    "# 5. 객체 분석 과정\n",
    "print(\"Processing image_5.. \\n\")\n",
    "image_5, objects = modules.object_analysis(image_4, objects)\n",
    "cv2.imshow('image', image_5)\n",
    "\n",
    "# 6. 인식 과정\n",
    "print(\"Processing image_6.. \\n\")\n",
    "image_6, key, beats, pitches = modules.recognition(image_5, staves, objects)\n",
    "# 이미지 띄우기\n",
    "cv2.imshow('image', image_6)\n",
    "\n",
    "print(key)\n",
    "print(beats)\n",
    "print(pitches)\n",
    "\n",
    "with oepn(\"music.txt\", 'a') as f:\n",
    "    f.write(beats)\n",
    "    f.write(pitches)\n",
    "    \n",
    "k = cv2.waitKey(0)\n",
    "if k == 27:\n",
    "    cv2.destroyAllWindows()"
   ]
  },
  {
   "cell_type": "code",
   "execution_count": null,
   "id": "4e4c8f24",
   "metadata": {},
   "outputs": [],
   "source": []
  },
  {
   "cell_type": "code",
   "execution_count": null,
   "id": "5653b982",
   "metadata": {},
   "outputs": [],
   "source": []
  },
  {
   "cell_type": "code",
   "execution_count": null,
   "id": "04c6d289",
   "metadata": {},
   "outputs": [],
   "source": []
  }
 ],
 "metadata": {
  "kernelspec": {
   "display_name": "Python 3 (ipykernel)",
   "language": "python",
   "name": "python3"
  },
  "language_info": {
   "codemirror_mode": {
    "name": "ipython",
    "version": 3
   },
   "file_extension": ".py",
   "mimetype": "text/x-python",
   "name": "python",
   "nbconvert_exporter": "python",
   "pygments_lexer": "ipython3",
   "version": "3.9.6"
  }
 },
 "nbformat": 4,
 "nbformat_minor": 5
}
